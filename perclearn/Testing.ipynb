{
 "cells": [
  {
   "cell_type": "code",
   "execution_count": 5,
   "metadata": {},
   "outputs": [],
   "source": [
    "%matplotlib inline  \n",
    "\n",
    "import mnist_reader\n",
    "import numpy as np\n",
    "import matplotlib.pyplot as plt\n",
    "\n",
    "\n",
    "X_train, y_train = mnist_reader.load_mnist('data/fashion', kind='train')\n",
    "X_test, y_test = mnist_reader.load_mnist('data/fashion', kind='t10k')"
   ]
  },
  {
   "cell_type": "code",
   "execution_count": 4,
   "metadata": {},
   "outputs": [
    {
     "name": "stdout",
     "output_type": "stream",
     "text": [
      "(60000, 784)\n"
     ]
    }
   ],
   "source": [
    "print(X_train.shape)"
   ]
  },
  {
   "cell_type": "code",
   "execution_count": 16,
   "metadata": {},
   "outputs": [
    {
     "name": "stdout",
     "output_type": "stream",
     "text": [
      "9\n"
     ]
    },
    {
     "data": {
      "image/png": "[encoded data removed]",
      "text/plain": [
       "<matplotlib.figure.Figure at 0x7feab8674860>"
      ]
     },
     "metadata": {},
     "output_type": "display_data"
    }
   ],
   "source": [
    "plt.imshow(np.reshape(X_train[0,:], (28,28)), cmap=plt.cm.Greys)\n",
    "print(y_train[0])"
   ]
  },
  {
   "cell_type": "code",
   "execution_count": 27,
   "metadata": {
    "collapsed": true
   },
   "outputs": [],
   "source": [
    "a = np.reshape(X_train[0,:], (28,28))\n",
    "b = X_train[0,:]"
   ]
  },
  {
   "cell_type": "code",
   "execution_count": 28,
   "metadata": {},
   "outputs": [
    {
     "ename": "TypeError",
     "evalue": "descriptor 'flatten' of 'numpy.ndarray' object needs an argument",
     "output_type": "error",
     "traceback": [
      "\u001b[0;31m---------------------------------------------------------------------------\u001b[0m",
      "\u001b[0;31mTypeError\u001b[0m                                 Traceback (most recent call last)",
      "\u001b[0;32m<ipython-input-28-76bf584b2ff3>\u001b[0m in \u001b[0;36m<module>\u001b[0;34m()\u001b[0m\n\u001b[1;32m      1\u001b[0m \u001b[0;31m# Flattening function\u001b[0m\u001b[0;34m\u001b[0m\u001b[0;34m\u001b[0m\u001b[0m\n\u001b[0;32m----> 2\u001b[0;31m \u001b[0mnp\u001b[0m\u001b[0;34m.\u001b[0m\u001b[0mndarray\u001b[0m\u001b[0;34m.\u001b[0m\u001b[0mflatten\u001b[0m\u001b[0;34m(\u001b[0m\u001b[0;34m)\u001b[0m\u001b[0;34m\u001b[0m\u001b[0m\n\u001b[0m",
      "\u001b[0;31mTypeError\u001b[0m: descriptor 'flatten' of 'numpy.ndarray' object needs an argument"
     ]
    }
   ],
   "source": [
    "# Flattening function\n",
    "np.ndarray.flatten()"
   ]
  },
  {
   "cell_type": "code",
   "execution_count": 40,
   "metadata": {
    "collapsed": true
   },
   "outputs": [],
   "source": [
    "from numpy.matlib import repmat\n",
    "\n",
    "def create_2D_noise(dim_array=(56,56), beta=-1):\n",
    "    \"\"\"\n",
    "    Function translated by Asier Erramuzpe (@erramuzpe)\n",
    "    from: https://www.mathworks.com/matlabcentral/fileexchange/5091-generate-spatial-data\n",
    "    Jon Yearsley  1 May 2004\n",
    "    j.yearsley@macaulay.ac.uk\n",
    "   \n",
    "    This function generates 1/f spatial noise, with a normal error \n",
    "    distribution (the grid must be at least 10x10 for the errors to be normal). \n",
    "    1/f noise is scale invariant, there is no spatial scale for which the \n",
    "    variance plateaus out, so the process is non-stationary.\n",
    "   \n",
    "        dim_array is a two component vector that sets the size of the spatial pattern\n",
    "              (dim_array=[10,5] is a 10x5 spatial grid)\n",
    "        beta defines the spectral distribution. \n",
    "             Spectral density S(f) = N f^beta\n",
    "             (f is the frequency, N is normalisation coeff).\n",
    "                  beta = 0 is random white noise.  \n",
    "                  beta  -1 is pink noise\n",
    "                  beta = -2 is Brownian noise\n",
    "            The fractal dimension is related to beta by, D = (6+beta)/2\n",
    "     \n",
    "    Note that the spatial pattern is periodic.  If this is not wanted the\n",
    "    grid size should be doubled and only the first quadrant used.\n",
    "    Time series can be generated by setting one component of dim_array to 1\n",
    "    he method is briefly descirbed in Lennon, J.L. \"Red-shifts and red\n",
    "    herrings in geographical ecology\", Ecography, Vol. 23, p101-113 (2000)\n",
    "    \n",
    "    Many natural systems look very similar to 1/f processes, so generating\n",
    "    1/f noise is a useful null model for natural systems.\n",
    "    The errors are normally distributed because of the central\n",
    "    limit theorem.  The phases of each frequency component are randomly\n",
    "    assigned with a uniform distribution from 0 to 2*pi. By summing up the\n",
    "    frequency components the error distribution approaches a normal\n",
    "    distribution.\n",
    "    \n",
    "    # S_f corrected to be S_f = (u.^2 + v.^2).^(beta/2);  2/10/05\n",
    "    \"\"\"\n",
    "    # Generate the grid of frequencies. u is the set of frequencies along the\n",
    "    # first dimension\n",
    "    # First quadrant are positive frequencies.  Zero frequency is at u(1,1).\n",
    "    list_1 = list(range(0, int(np.floor(dim_array[0] / 2)) + 1))\n",
    "    list_2 = list(range(-int(np.ceil(dim_array[0] / 2) - 1), 0, 1))\n",
    "    u = np.concatenate((list_1, list_2)) / dim_array[0]\n",
    "    # Reproduce these frequencies along ever row\n",
    "    u = np.reshape(repmat(u,1,dim_array[1]), dim_array).T\n",
    "\n",
    "    # v is the set of frequencies along the second dimension.  For a square\n",
    "    # region it will be the transpose of u\n",
    "    list_1 = list(range(0, int(np.floor(dim_array[1] / 2)) + 1))\n",
    "    list_2 = list(range(-int(np.ceil(dim_array[1] / 2) - 1), 0, 1))\n",
    "    v = np.concatenate((list_1, list_2)) / dim_array[1]\n",
    "    # Reproduce these frequencies along ever row\n",
    "    v = np.reshape(repmat(v,dim_array[0],1), dim_array)\n",
    "\n",
    "\n",
    "    # Generate the power spectrum\n",
    "    S_f = np.power(np.power(u,2) + np.power(v,2), (beta/2))\n",
    "    # Set any infinities to zero\n",
    "    S_f[np.isinf(S_f)] = 0\n",
    "\n",
    "\n",
    "    # Generate a grid of random phase shifts\n",
    "    phi =  np.random.random(dim_array)\n",
    "\n",
    "    # Inverse Fourier transform to obtain the the spatial pattern\n",
    "    x = np.fft.ifft2(np.power(S_f, 0.5) * (np.cos(2 * np.pi * phi) + 1j * np.sin(2 * np.pi * phi)))\n",
    "\n",
    "    # Pick just the real component\n",
    "    return np.real(x)"
   ]
  },
  {
   "cell_type": "code",
   "execution_count": 41,
   "metadata": {},
   "outputs": [
    {
     "name": "stderr",
     "output_type": "stream",
     "text": [
      "/home/asier/miniconda3/lib/python3.5/site-packages/ipykernel/__main__.py:60: RuntimeWarning: divide by zero encountered in power\n"
     ]
    },
    {
     "data": {
      "text/plain": [
       "<matplotlib.image.AxesImage at 0x7feab83bd860>"
      ]
     },
     "execution_count": 41,
     "metadata": {},
     "output_type": "execute_result"
    },
    {
     "data": {
      "image/png": "[encoded data removed]",
      "text/plain": [
       "<matplotlib.figure.Figure at 0x7feab83feba8>"
      ]
     },
     "metadata": {},
     "output_type": "display_data"
    }
   ],
   "source": [
    "plt.imshow(create_2D_noise())"
   ]
  },
  {
   "cell_type": "code",
   "execution_count": null,
   "metadata": {
    "collapsed": true
   },
   "outputs": [],
   "source": []
  }
 ],
 "metadata": {
  "kernelspec": {
   "display_name": "python3.5",
   "language": "python",
   "name": "python3.5"
  },
  "language_info": {
   "codemirror_mode": {
    "name": "ipython",
    "version": 3
   },
   "file_extension": ".py",
   "mimetype": "text/x-python",
   "name": "python",
   "nbconvert_exporter": "python",
   "pygments_lexer": "ipython3",
   "version": "3.5.4"
  }
 },
 "nbformat": 4,
 "nbformat_minor": 2
}
